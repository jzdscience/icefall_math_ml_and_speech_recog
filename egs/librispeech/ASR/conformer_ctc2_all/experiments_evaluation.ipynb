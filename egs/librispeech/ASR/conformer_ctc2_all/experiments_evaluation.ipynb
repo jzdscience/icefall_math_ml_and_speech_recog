{
 "cells": [
  {
   "cell_type": "code",
   "execution_count": 14,
   "metadata": {},
   "outputs": [],
   "source": [
    "import torch\n",
    "import numpy as np  \n",
    "import tensorflow as tf\n",
    "import re\n",
    "import os\n",
    "import glob\n",
    "import datetime"
   ]
  },
  {
   "cell_type": "markdown",
   "metadata": {},
   "source": [
    "## 1. Analysis on Model Performance (Word Error Rate)\n"
   ]
  },
  {
   "cell_type": "markdown",
   "metadata": {},
   "source": [
    "### Get the epoch number with best validation loss"
   ]
  },
  {
   "cell_type": "code",
   "execution_count": 30,
   "metadata": {},
   "outputs": [
    {
     "name": "stdout",
     "output_type": "stream",
     "text": [
      "run_20231210_gelu_clean\n",
      "17\n"
     ]
    }
   ],
   "source": [
    "directory='./exp/'\n",
    "for subdir in os.listdir(directory):\n",
    "    model_checkpoint_epoch = 1\n",
    "    for file in os.listdir(directory + subdir):\n",
    "        if re.match(r'epoch.*\\.pt$', file):\n",
    "            if int(file[6:-3]) > model_checkpoint_epoch:\n",
    "                model_checkpoint = file\n",
    "                model_checkpoint_epoch = int(file[6:-3])\n",
    "\n",
    "    print(subdir)\n",
    "    model = torch.load(os.path.join(directory, subdir, model_checkpoint), map_location=torch.device('cpu'))\n",
    "    # print(model)\n",
    "    print(model['best_valid_epoch'])\n",
    "    break\n",
    "            "
   ]
  },
  {
   "cell_type": "code",
   "execution_count": 67,
   "metadata": {},
   "outputs": [],
   "source": [
    "torch.cuda.empty_cache()"
   ]
  },
  {
   "cell_type": "code",
   "execution_count": 31,
   "metadata": {},
   "outputs": [
    {
     "data": {
      "text/plain": [
       "{'k2-version': '1.24.4',\n",
       " 'k2-build-type': 'Release',\n",
       " 'k2-with-cuda': True,\n",
       " 'k2-git-sha1': '59aef5e3a52a43990f78ad33f4839f0a1680358a',\n",
       " 'k2-git-date': 'Thu Nov 23 09:08:57 2023',\n",
       " 'lhotse-version': '1.17.0.dev+git.b869488.clean',\n",
       " 'torch-version': '2.1.0+cu121',\n",
       " 'torch-cuda-available': True,\n",
       " 'torch-cuda-version': '12.1',\n",
       " 'python-version': '3.1',\n",
       " 'icefall-git-branch': 'master',\n",
       " 'icefall-git-sha1': '7c682ec-dirty',\n",
       " 'icefall-git-date': 'Sat Dec 9 06:50:50 2023',\n",
       " 'icefall-path': '/home/ipsoct4/project/icefall_w4995_mathml',\n",
       " 'k2-path': '/home/ipsoct4/anaconda3/envs/kaldi/lib/python3.11/site-packages/k2/__init__.py',\n",
       " 'lhotse-path': '/home/ipsoct4/anaconda3/envs/kaldi/lib/python3.11/site-packages/lhotse/__init__.py',\n",
       " 'hostname': 'instance-4t4',\n",
       " 'IP address': '10.182.0.2'}"
      ]
     },
     "execution_count": 31,
     "metadata": {},
     "output_type": "execute_result"
    }
   ],
   "source": [
    "model['env_info']"
   ]
  },
  {
   "cell_type": "markdown",
   "metadata": {},
   "source": [
    "## 2. Analysis on Computation Time"
   ]
  },
  {
   "cell_type": "code",
   "execution_count": null,
   "metadata": {},
   "outputs": [],
   "source": [
    "# find all directories with tensorboard files, within each directory, find the latest event file, and parse it to get the epoch durations\n",
    "\n",
    "computing_time = {}\n",
    "\n",
    "# def calculate_avg_epoch_duration(directory='./exp/'):\n",
    "    # get the name of all subdirectories\n",
    "    # for each subdirectory name, prune the name to get the experiment name\n",
    "\n",
    "directory='./exp/'\n",
    "for subdir in os.listdir(directory):\n",
    "    exp_name = subdir[13:]\n",
    "    # print(subdir)\n",
    "    # get the latest event file\n",
    "    event_file = max(glob.glob(directory+ subdir + '/tensorboard/events.out.tfevents.*'), key=os.path.getctime)\n",
    "    # parse the event file to get the epoch durations\n",
    "    epoch_times = {}\n",
    "\n",
    "    for event in tf.compat.v1.train.summary_iterator(event_file):\n",
    "        for value in event.summary.value:\n",
    "            if value.tag == \"train/epoch\":\n",
    "                epoch_number = int(value.simple_value)\n",
    "                if epoch_number not in epoch_times:\n",
    "                    epoch_times[epoch_number] = event.wall_time\n",
    "\n",
    "    \n",
    "    last_available_epoch = min(max(epoch_times.keys()), 30)\n",
    "\n",
    "    if min(epoch_times.keys()) > 25:\n",
    "        first_available_epoch = min(epoch_times.keys())\n",
    "    elif min(epoch_times.keys()) <= 6:\n",
    "        first_available_epoch = min(epoch_times.keys())\n",
    "    else:\n",
    "        first_available_epoch = last_available_epoch - 5\n",
    "\n",
    "\n",
    "    average_duration_raw = (epoch_times[last_available_epoch] - epoch_times[first_available_epoch]) / (last_available_epoch - first_available_epoch) \n",
    "\n",
    "    average_duration_processed = str(datetime.timedelta(seconds=average_duration_raw))[:7]\n",
    "\n",
    "    computing_time[exp_name] = average_duration_processed\n",
    "    \n",
    "    # return computing_time\n",
    "\n",
    "# calculate_avg_epoch_duration(directory='./exp')\n"
   ]
  },
  {
   "cell_type": "code",
   "execution_count": 124,
   "metadata": {},
   "outputs": [
    {
     "data": {
      "text/plain": [
       "{'gelu_clean': '0:32:16',\n",
       " 'relu_clean': '0:31:19',\n",
       " 'selu_clean': '0:32:11',\n",
       " 'singleswish_clean': '0:33:00',\n",
       " 'tanh_clean': '0:32:02',\n",
       " 'leakyRelu_clean': '0:32:13',\n",
       " 'elu_clean': '0:32:03',\n",
       " 'softplus_all_activation_clean': '0:32:37',\n",
       " 'softplus_clean': '0:32:27',\n",
       " 'doubleswish_clean': '0:33:35'}"
      ]
     },
     "execution_count": 124,
     "metadata": {},
     "output_type": "execute_result"
    }
   ],
   "source": [
    "computing_time"
   ]
  },
  {
   "cell_type": "code",
   "execution_count": null,
   "metadata": {},
   "outputs": [],
   "source": []
  }
 ],
 "metadata": {
  "kernelspec": {
   "display_name": "kaldi",
   "language": "python",
   "name": "python3"
  },
  "language_info": {
   "codemirror_mode": {
    "name": "ipython",
    "version": 3
   },
   "file_extension": ".py",
   "mimetype": "text/x-python",
   "name": "python",
   "nbconvert_exporter": "python",
   "pygments_lexer": "ipython3",
   "version": "3.11.5"
  }
 },
 "nbformat": 4,
 "nbformat_minor": 2
}
