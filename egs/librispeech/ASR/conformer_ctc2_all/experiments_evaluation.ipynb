{
 "cells": [
  {
   "cell_type": "code",
   "execution_count": 55,
   "metadata": {},
   "outputs": [],
   "source": [
    "import torch\n",
    "import numpy as np  "
   ]
  },
  {
   "cell_type": "code",
   "execution_count": 67,
   "metadata": {},
   "outputs": [],
   "source": [
    "torch.cuda.empty_cache()"
   ]
  },
  {
   "cell_type": "code",
   "execution_count": 56,
   "metadata": {},
   "outputs": [],
   "source": [
    "best_model = torch.load('./exp/run_20231206_relu_clean/best-valid-loss.pt')"
   ]
  },
  {
   "cell_type": "code",
   "execution_count": 57,
   "metadata": {},
   "outputs": [
    {
     "data": {
      "text/plain": [
       "28"
      ]
     },
     "execution_count": 57,
     "metadata": {},
     "output_type": "execute_result"
    }
   ],
   "source": [
    "best_model['best_valid_epoch']"
   ]
  },
  {
   "cell_type": "code",
   "execution_count": 58,
   "metadata": {},
   "outputs": [],
   "source": [
    "del best_model"
   ]
  },
  {
   "cell_type": "code",
   "execution_count": null,
   "metadata": {},
   "outputs": [],
   "source": []
  },
  {
   "cell_type": "code",
   "execution_count": 7,
   "metadata": {},
   "outputs": [],
   "source": [
    "last_epoch_model = torch.load('./exp/run_20231206_relu_clean/epoch-30.pt')"
   ]
  },
  {
   "cell_type": "code",
   "execution_count": 8,
   "metadata": {},
   "outputs": [
    {
     "data": {
      "text/plain": [
       "28"
      ]
     },
     "execution_count": 8,
     "metadata": {},
     "output_type": "execute_result"
    }
   ],
   "source": [
    "last_epoch_model['best_valid_epoch']"
   ]
  },
  {
   "cell_type": "code",
   "execution_count": 5,
   "metadata": {},
   "outputs": [],
   "source": [
    "last_epoch_model = torch.load('./exp/run_20231208_leakyRelu_clean/epoch-30.pt')"
   ]
  },
  {
   "cell_type": "code",
   "execution_count": 6,
   "metadata": {},
   "outputs": [
    {
     "data": {
      "text/plain": [
       "23"
      ]
     },
     "execution_count": 6,
     "metadata": {},
     "output_type": "execute_result"
    }
   ],
   "source": [
    "last_epoch_model['best_valid_epoch']"
   ]
  },
  {
   "cell_type": "code",
   "execution_count": 12,
   "metadata": {},
   "outputs": [],
   "source": [
    "last_epoch_model = torch.load('./exp/run_20231206_doubleswish_clean/epoch-30.pt')"
   ]
  },
  {
   "cell_type": "code",
   "execution_count": 13,
   "metadata": {},
   "outputs": [
    {
     "data": {
      "text/plain": [
       "23"
      ]
     },
     "execution_count": 13,
     "metadata": {},
     "output_type": "execute_result"
    }
   ],
   "source": [
    "last_epoch_model['best_valid_epoch']"
   ]
  },
  {
   "cell_type": "code",
   "execution_count": 17,
   "metadata": {},
   "outputs": [],
   "source": [
    "last_epoch_model = torch.load('./exp/run_20231209_tanh_clean/epoch-13.pt')"
   ]
  },
  {
   "cell_type": "code",
   "execution_count": 18,
   "metadata": {},
   "outputs": [
    {
     "data": {
      "text/plain": [
       "6"
      ]
     },
     "execution_count": 18,
     "metadata": {},
     "output_type": "execute_result"
    }
   ],
   "source": [
    "last_epoch_model['best_valid_epoch']"
   ]
  },
  {
   "cell_type": "code",
   "execution_count": 23,
   "metadata": {},
   "outputs": [],
   "source": [
    "last_epoch_model = torch.load('./exp/run_20231208_singleswish_clean/epoch-25.pt')"
   ]
  },
  {
   "cell_type": "code",
   "execution_count": 24,
   "metadata": {},
   "outputs": [
    {
     "data": {
      "text/plain": [
       "6"
      ]
     },
     "execution_count": 24,
     "metadata": {},
     "output_type": "execute_result"
    }
   ],
   "source": [
    "last_epoch_model['best_valid_epoch']"
   ]
  },
  {
   "cell_type": "code",
   "execution_count": 9,
   "metadata": {},
   "outputs": [],
   "source": [
    "last_epoch_model = torch.load('./exp/run_20231210_gelu_clean/epoch-30.pt')"
   ]
  },
  {
   "cell_type": "code",
   "execution_count": 11,
   "metadata": {},
   "outputs": [
    {
     "data": {
      "text/plain": [
       "17"
      ]
     },
     "execution_count": 11,
     "metadata": {},
     "output_type": "execute_result"
    }
   ],
   "source": [
    "last_epoch_model['best_valid_epoch']"
   ]
  },
  {
   "cell_type": "code",
   "execution_count": 60,
   "metadata": {},
   "outputs": [],
   "source": [
    "last_epoch_model = torch.load('./exp/run_20231210_elu_clean/epoch-30.pt')"
   ]
  },
  {
   "cell_type": "code",
   "execution_count": 61,
   "metadata": {},
   "outputs": [
    {
     "data": {
      "text/plain": [
       "6"
      ]
     },
     "execution_count": 61,
     "metadata": {},
     "output_type": "execute_result"
    }
   ],
   "source": [
    "last_epoch_model['best_valid_epoch']"
   ]
  },
  {
   "cell_type": "code",
   "execution_count": 62,
   "metadata": {},
   "outputs": [],
   "source": [
    "last_epoch_model = torch.load('./exp/run_20231211_selu_clean/epoch-30.pt')"
   ]
  },
  {
   "cell_type": "code",
   "execution_count": 63,
   "metadata": {},
   "outputs": [
    {
     "data": {
      "text/plain": [
       "6"
      ]
     },
     "execution_count": 63,
     "metadata": {},
     "output_type": "execute_result"
    }
   ],
   "source": [
    "last_epoch_model['best_valid_epoch']"
   ]
  },
  {
   "cell_type": "code",
   "execution_count": 64,
   "metadata": {},
   "outputs": [],
   "source": [
    "last_epoch_model = torch.load('./exp/run_20231211_softplus_clean/epoch-30.pt')"
   ]
  },
  {
   "cell_type": "code",
   "execution_count": 65,
   "metadata": {},
   "outputs": [
    {
     "data": {
      "text/plain": [
       "26"
      ]
     },
     "execution_count": 65,
     "metadata": {},
     "output_type": "execute_result"
    }
   ],
   "source": [
    "last_epoch_model['best_valid_epoch']"
   ]
  },
  {
   "cell_type": "code",
   "execution_count": 66,
   "metadata": {},
   "outputs": [],
   "source": [
    "del last_epoch_model"
   ]
  },
  {
   "cell_type": "code",
   "execution_count": null,
   "metadata": {},
   "outputs": [],
   "source": []
  },
  {
   "cell_type": "code",
   "execution_count": 19,
   "metadata": {},
   "outputs": [
    {
     "data": {
      "text/plain": [
       "dict_keys(['model', 'optimizer', 'scheduler', 'grad_scaler', 'sampler', 'model_avg', 'best_train_loss', 'best_valid_loss', 'best_train_epoch', 'best_valid_epoch', 'batch_idx_train', 'log_interval', 'reset_interval', 'valid_interval', 'feature_dim', 'subsampling_factor', 'encoder_dim', 'nhead', 'dim_feedforward', 'num_encoder_layers', 'beam_size', 'reduction', 'use_double_scores', 'model_warm_step', 'env_info', 'world_size', 'master_port', 'tensorboard', 'num_epochs', 'start_epoch', 'start_batch', 'exp_dir', 'lang_dir', 'initial_lr', 'lr_batches', 'lr_epochs', 'att_rate', 'num_decoder_layers', 'seed', 'print_diagnostics', 'save_every_n', 'keep_last_k', 'average_period', 'use_fp16', 'activation_type', 'full_libri', 'mini_libri', 'manifest_dir', 'max_duration', 'bucketing_sampler', 'num_buckets', 'concatenate_cuts', 'duration_factor', 'gap', 'on_the_fly_feats', 'shuffle', 'drop_last', 'return_cuts', 'num_workers', 'enable_spec_aug', 'spec_aug_time_warp_factor', 'enable_musan', 'input_strategy', 'cur_epoch', 'train_loss'])"
      ]
     },
     "execution_count": 19,
     "metadata": {},
     "output_type": "execute_result"
    }
   ],
   "source": [
    "last_epoch_model.keys()"
   ]
  },
  {
   "cell_type": "code",
   "execution_count": 21,
   "metadata": {},
   "outputs": [
    {
     "data": {
      "text/plain": [
       "{'k2-version': '1.24.4',\n",
       " 'k2-build-type': 'Release',\n",
       " 'k2-with-cuda': True,\n",
       " 'k2-git-sha1': '59aef5e3a52a43990f78ad33f4839f0a1680358a',\n",
       " 'k2-git-date': 'Thu Nov 23 09:08:57 2023',\n",
       " 'lhotse-version': '1.17.0.dev+git.b869488.clean',\n",
       " 'torch-version': '2.1.0+cu121',\n",
       " 'torch-cuda-available': True,\n",
       " 'torch-cuda-version': '12.1',\n",
       " 'python-version': '3.1',\n",
       " 'icefall-git-branch': 'master',\n",
       " 'icefall-git-sha1': '7c682ec-dirty',\n",
       " 'icefall-git-date': 'Sat Dec 9 06:50:50 2023',\n",
       " 'icefall-path': '/home/ipsoct4/project/icefall_w4995_mathml',\n",
       " 'k2-path': '/home/ipsoct4/anaconda3/envs/kaldi/lib/python3.11/site-packages/k2/__init__.py',\n",
       " 'lhotse-path': '/home/ipsoct4/anaconda3/envs/kaldi/lib/python3.11/site-packages/lhotse/__init__.py',\n",
       " 'hostname': 'instance-4t4',\n",
       " 'IP address': '10.182.0.2'}"
      ]
     },
     "execution_count": 21,
     "metadata": {},
     "output_type": "execute_result"
    }
   ],
   "source": [
    "last_epoch_model['env_info']"
   ]
  },
  {
   "cell_type": "code",
   "execution_count": null,
   "metadata": {},
   "outputs": [],
   "source": [
    "del last_epoch_model\n",
    "\n",
    "torch.cuda.empty_cache()"
   ]
  },
  {
   "cell_type": "markdown",
   "metadata": {},
   "source": [
    "## load TF events"
   ]
  },
  {
   "cell_type": "code",
   "execution_count": 1,
   "metadata": {},
   "outputs": [
    {
     "name": "stderr",
     "output_type": "stream",
     "text": [
      "2023-12-13 18:13:08.170181: E external/local_xla/xla/stream_executor/cuda/cuda_dnn.cc:9261] Unable to register cuDNN factory: Attempting to register factory for plugin cuDNN when one has already been registered\n",
      "2023-12-13 18:13:08.170383: E external/local_xla/xla/stream_executor/cuda/cuda_fft.cc:607] Unable to register cuFFT factory: Attempting to register factory for plugin cuFFT when one has already been registered\n",
      "2023-12-13 18:13:08.358651: E external/local_xla/xla/stream_executor/cuda/cuda_blas.cc:1515] Unable to register cuBLAS factory: Attempting to register factory for plugin cuBLAS when one has already been registered\n",
      "2023-12-13 18:13:09.322808: I tensorflow/core/platform/cpu_feature_guard.cc:182] This TensorFlow binary is optimized to use available CPU instructions in performance-critical operations.\n",
      "To enable the following instructions: AVX2 AVX512F FMA, in other operations, rebuild TensorFlow with the appropriate compiler flags.\n",
      "2023-12-13 18:13:15.637463: W tensorflow/compiler/tf2tensorrt/utils/py_utils.cc:38] TF-TRT Warning: Could not find TensorRT\n"
     ]
    }
   ],
   "source": [
    "import tensorflow as tf\n"
   ]
  },
  {
   "cell_type": "code",
   "execution_count": 19,
   "metadata": {},
   "outputs": [
    {
     "name": "stdout",
     "output_type": "stream",
     "text": [
      "Average time per epoch (for epochs 25 to 30): 176.22150373458862 seconds\n"
     ]
    }
   ],
   "source": [
    "from tensorflow.core.util import event_pb2\n",
    "import numpy as np\n",
    "\n",
    "def parse_event(event):\n",
    "    return event_pb2.Event.FromString(event)\n",
    "\n",
    "# Replace with the path to your event file\n",
    "event_file = \"./exp/run_20231211_softplus_clean/tensorboard/events.out.tfevents.1702344251.instance-4t4.1178832.0\"\n",
    "\n",
    "steps_per_epoch = 1156  # Example value\n",
    "\n",
    "step_times = []\n",
    "epoch_durations = []\n",
    "\n",
    "for event in tf.compat.v1.train.summary_iterator(event_file):\n",
    "    if event.WhichOneof('what') == 'summary':\n",
    "        step_times.append(event.wall_time)\n",
    "\n",
    "# Calculate epoch durations\n",
    "for i in range(len(step_times) - steps_per_epoch):\n",
    "    if i % steps_per_epoch == 0:\n",
    "        epoch_index = i // steps_per_epoch\n",
    "        if 25 <= epoch_index <= 30:\n",
    "            epoch_duration = step_times[i + steps_per_epoch] - step_times[i]\n",
    "            epoch_durations.append(epoch_duration)\n",
    "\n",
    "# Calculate average time per epoch for epochs 25 to 30\n",
    "if epoch_durations:\n",
    "    average_duration = sum(epoch_durations) / len(epoch_durations)\n",
    "    print(f\"Average time per epoch (for epochs 25 to 30): {average_duration} seconds\")\n",
    "else:\n",
    "    print(\"No epoch data found for the specified range.\")\n"
   ]
  },
  {
   "cell_type": "code",
   "execution_count": null,
   "metadata": {},
   "outputs": [],
   "source": [
    "# find all directories with tensorboard files, within each directory, find the latest event file, and parse it to get the epoch durations\n",
    "import os\n",
    "import glob\n",
    "import re\n",
    "import datetime\n",
    "\n",
    "computing_time = {}\n",
    "\n",
    "# def calculate_avg_epoch_duration(directory='./exp/'):\n",
    "    # get the name of all subdirectories\n",
    "    # for each subdirectory name, prune the name to get the experiment name\n",
    "\n",
    "directory='./exp/'\n",
    "for subdir in os.listdir(directory):\n",
    "    exp_name = subdir[13:]\n",
    "    # print(subdir)\n",
    "    # get the latest event file\n",
    "    event_file = max(glob.glob(directory+ subdir + '/tensorboard/events.out.tfevents.*'), key=os.path.getctime)\n",
    "    # parse the event file to get the epoch durations\n",
    "    epoch_times = {}\n",
    "\n",
    "    for event in tf.compat.v1.train.summary_iterator(event_file):\n",
    "        for value in event.summary.value:\n",
    "            if value.tag == \"train/epoch\":\n",
    "                epoch_number = int(value.simple_value)\n",
    "                if epoch_number not in epoch_times:\n",
    "                    epoch_times[epoch_number] = event.wall_time\n",
    "\n",
    "    \n",
    "    last_available_epoch = min(max(epoch_times.keys()), 30)\n",
    "\n",
    "    if min(epoch_times.keys()) > 25:\n",
    "        first_available_epoch = min(epoch_times.keys())\n",
    "    elif min(epoch_times.keys()) <= 6:\n",
    "        first_available_epoch = min(epoch_times.keys())\n",
    "    else:\n",
    "        first_available_epoch = last_available_epoch - 5\n",
    "\n",
    "\n",
    "    average_duration_raw = (epoch_times[last_available_epoch] - epoch_times[first_available_epoch]) / (last_available_epoch - first_available_epoch) \n",
    "\n",
    "    average_duration_processed = str(datetime.timedelta(seconds=average_duration_raw))[:7]\n",
    "\n",
    "    computing_time[exp_name] = average_duration_processed\n",
    "    \n",
    "    # return computing_time\n",
    "\n",
    "# calculate_avg_epoch_duration(directory='./exp')\n"
   ]
  },
  {
   "cell_type": "code",
   "execution_count": 124,
   "metadata": {},
   "outputs": [
    {
     "data": {
      "text/plain": [
       "{'gelu_clean': '0:32:16',\n",
       " 'relu_clean': '0:31:19',\n",
       " 'selu_clean': '0:32:11',\n",
       " 'singleswish_clean': '0:33:00',\n",
       " 'tanh_clean': '0:32:02',\n",
       " 'leakyRelu_clean': '0:32:13',\n",
       " 'elu_clean': '0:32:03',\n",
       " 'softplus_all_activation_clean': '0:32:37',\n",
       " 'softplus_clean': '0:32:27',\n",
       " 'doubleswish_clean': '0:33:35'}"
      ]
     },
     "execution_count": 124,
     "metadata": {},
     "output_type": "execute_result"
    }
   ],
   "source": [
    "computing_time"
   ]
  },
  {
   "cell_type": "code",
   "execution_count": null,
   "metadata": {},
   "outputs": [],
   "source": []
  }
 ],
 "metadata": {
  "kernelspec": {
   "display_name": "kaldi",
   "language": "python",
   "name": "python3"
  },
  "language_info": {
   "codemirror_mode": {
    "name": "ipython",
    "version": 3
   },
   "file_extension": ".py",
   "mimetype": "text/x-python",
   "name": "python",
   "nbconvert_exporter": "python",
   "pygments_lexer": "ipython3",
   "version": "3.11.5"
  }
 },
 "nbformat": 4,
 "nbformat_minor": 2
}
